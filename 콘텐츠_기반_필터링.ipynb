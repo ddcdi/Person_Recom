{
 "cells": [
  {
   "metadata": {},
   "cell_type": "markdown",
   "source": [
    "# 제2장 기본적인 추천 시스템\n",
    "## 2.1 데이터 읽기"
   ],
   "id": "5b834a9f6622096d"
  },
  {
   "metadata": {
    "ExecuteTime": {
     "end_time": "2024-11-16T16:09:27.343069Z",
     "start_time": "2024-11-16T16:09:03.404271Z"
    }
   },
   "cell_type": "code",
   "source": [
    "import pandas as pd\n",
    "\n",
    "u_cols = ['user_id','age','sex','occupation','zip_code']\n",
    "users = pd.read_csv('data/u.user',sep='|',names=u_cols,encoding='latin-1') # 구분자 |, 열이름 지정\n",
    "users = users.set_index('user_id') #users의 user_id를 인덱스로 설정\n",
    "users.head()"
   ],
   "id": "27bd5ca6ae8fb21c",
   "outputs": [
    {
     "data": {
      "text/plain": [
       "         age sex  occupation zip_code\n",
       "user_id                              \n",
       "1         24   M  technician    85711\n",
       "2         53   F       other    94043\n",
       "3         23   M      writer    32067\n",
       "4         24   M  technician    43537\n",
       "5         33   F       other    15213"
      ],
      "text/html": [
       "<div>\n",
       "<style scoped>\n",
       "    .dataframe tbody tr th:only-of-type {\n",
       "        vertical-align: middle;\n",
       "    }\n",
       "\n",
       "    .dataframe tbody tr th {\n",
       "        vertical-align: top;\n",
       "    }\n",
       "\n",
       "    .dataframe thead th {\n",
       "        text-align: right;\n",
       "    }\n",
       "</style>\n",
       "<table border=\"1\" class=\"dataframe\">\n",
       "  <thead>\n",
       "    <tr style=\"text-align: right;\">\n",
       "      <th></th>\n",
       "      <th>age</th>\n",
       "      <th>sex</th>\n",
       "      <th>occupation</th>\n",
       "      <th>zip_code</th>\n",
       "    </tr>\n",
       "    <tr>\n",
       "      <th>user_id</th>\n",
       "      <th></th>\n",
       "      <th></th>\n",
       "      <th></th>\n",
       "      <th></th>\n",
       "    </tr>\n",
       "  </thead>\n",
       "  <tbody>\n",
       "    <tr>\n",
       "      <th>1</th>\n",
       "      <td>24</td>\n",
       "      <td>M</td>\n",
       "      <td>technician</td>\n",
       "      <td>85711</td>\n",
       "    </tr>\n",
       "    <tr>\n",
       "      <th>2</th>\n",
       "      <td>53</td>\n",
       "      <td>F</td>\n",
       "      <td>other</td>\n",
       "      <td>94043</td>\n",
       "    </tr>\n",
       "    <tr>\n",
       "      <th>3</th>\n",
       "      <td>23</td>\n",
       "      <td>M</td>\n",
       "      <td>writer</td>\n",
       "      <td>32067</td>\n",
       "    </tr>\n",
       "    <tr>\n",
       "      <th>4</th>\n",
       "      <td>24</td>\n",
       "      <td>M</td>\n",
       "      <td>technician</td>\n",
       "      <td>43537</td>\n",
       "    </tr>\n",
       "    <tr>\n",
       "      <th>5</th>\n",
       "      <td>33</td>\n",
       "      <td>F</td>\n",
       "      <td>other</td>\n",
       "      <td>15213</td>\n",
       "    </tr>\n",
       "  </tbody>\n",
       "</table>\n",
       "</div>"
      ]
     },
     "execution_count": 1,
     "metadata": {},
     "output_type": "execute_result"
    }
   ],
   "execution_count": 1
  },
  {
   "metadata": {
    "ExecuteTime": {
     "end_time": "2024-11-16T16:09:32.075926Z",
     "start_time": "2024-11-16T16:09:32.047216Z"
    }
   },
   "cell_type": "code",
   "source": [
    "i_cols = ['movie_id', 'title', 'release date', 'video release date', 'IMDB URL', \n",
    "          'unknown', 'Action', 'Adventure', 'Animation', 'Children\\'s', 'Comedy', \n",
    "          'Crime', 'Documentary', 'Drama', 'Fantasy', 'Film-Noir', 'Horror', \n",
    "          'Musical', 'Mystery', 'Romance', 'Sci-Fi', 'Thriller', 'War', 'Western']\n",
    "movies = pd.read_csv('data/u.item',sep='|',names=i_cols,encoding='latin-1')\n",
    "movies=movies.set_index('movie_id')\n",
    "movies.head()"
   ],
   "id": "b29202fb6236b703",
   "outputs": [
    {
     "data": {
      "text/plain": [
       "                      title release date  video release date  \\\n",
       "movie_id                                                       \n",
       "1          Toy Story (1995)  01-Jan-1995                 NaN   \n",
       "2          GoldenEye (1995)  01-Jan-1995                 NaN   \n",
       "3         Four Rooms (1995)  01-Jan-1995                 NaN   \n",
       "4         Get Shorty (1995)  01-Jan-1995                 NaN   \n",
       "5            Copycat (1995)  01-Jan-1995                 NaN   \n",
       "\n",
       "                                                   IMDB URL  unknown  Action  \\\n",
       "movie_id                                                                       \n",
       "1         http://us.imdb.com/M/title-exact?Toy%20Story%2...        0       0   \n",
       "2         http://us.imdb.com/M/title-exact?GoldenEye%20(...        0       1   \n",
       "3         http://us.imdb.com/M/title-exact?Four%20Rooms%...        0       0   \n",
       "4         http://us.imdb.com/M/title-exact?Get%20Shorty%...        0       1   \n",
       "5         http://us.imdb.com/M/title-exact?Copycat%20(1995)        0       0   \n",
       "\n",
       "          Adventure  Animation  Children's  Comedy  ...  Fantasy  Film-Noir  \\\n",
       "movie_id                                            ...                       \n",
       "1                 0          1           1       1  ...        0          0   \n",
       "2                 1          0           0       0  ...        0          0   \n",
       "3                 0          0           0       0  ...        0          0   \n",
       "4                 0          0           0       1  ...        0          0   \n",
       "5                 0          0           0       0  ...        0          0   \n",
       "\n",
       "          Horror  Musical  Mystery  Romance  Sci-Fi  Thriller  War  Western  \n",
       "movie_id                                                                     \n",
       "1              0        0        0        0       0         0    0        0  \n",
       "2              0        0        0        0       0         1    0        0  \n",
       "3              0        0        0        0       0         1    0        0  \n",
       "4              0        0        0        0       0         0    0        0  \n",
       "5              0        0        0        0       0         1    0        0  \n",
       "\n",
       "[5 rows x 23 columns]"
      ],
      "text/html": [
       "<div>\n",
       "<style scoped>\n",
       "    .dataframe tbody tr th:only-of-type {\n",
       "        vertical-align: middle;\n",
       "    }\n",
       "\n",
       "    .dataframe tbody tr th {\n",
       "        vertical-align: top;\n",
       "    }\n",
       "\n",
       "    .dataframe thead th {\n",
       "        text-align: right;\n",
       "    }\n",
       "</style>\n",
       "<table border=\"1\" class=\"dataframe\">\n",
       "  <thead>\n",
       "    <tr style=\"text-align: right;\">\n",
       "      <th></th>\n",
       "      <th>title</th>\n",
       "      <th>release date</th>\n",
       "      <th>video release date</th>\n",
       "      <th>IMDB URL</th>\n",
       "      <th>unknown</th>\n",
       "      <th>Action</th>\n",
       "      <th>Adventure</th>\n",
       "      <th>Animation</th>\n",
       "      <th>Children's</th>\n",
       "      <th>Comedy</th>\n",
       "      <th>...</th>\n",
       "      <th>Fantasy</th>\n",
       "      <th>Film-Noir</th>\n",
       "      <th>Horror</th>\n",
       "      <th>Musical</th>\n",
       "      <th>Mystery</th>\n",
       "      <th>Romance</th>\n",
       "      <th>Sci-Fi</th>\n",
       "      <th>Thriller</th>\n",
       "      <th>War</th>\n",
       "      <th>Western</th>\n",
       "    </tr>\n",
       "    <tr>\n",
       "      <th>movie_id</th>\n",
       "      <th></th>\n",
       "      <th></th>\n",
       "      <th></th>\n",
       "      <th></th>\n",
       "      <th></th>\n",
       "      <th></th>\n",
       "      <th></th>\n",
       "      <th></th>\n",
       "      <th></th>\n",
       "      <th></th>\n",
       "      <th></th>\n",
       "      <th></th>\n",
       "      <th></th>\n",
       "      <th></th>\n",
       "      <th></th>\n",
       "      <th></th>\n",
       "      <th></th>\n",
       "      <th></th>\n",
       "      <th></th>\n",
       "      <th></th>\n",
       "      <th></th>\n",
       "    </tr>\n",
       "  </thead>\n",
       "  <tbody>\n",
       "    <tr>\n",
       "      <th>1</th>\n",
       "      <td>Toy Story (1995)</td>\n",
       "      <td>01-Jan-1995</td>\n",
       "      <td>NaN</td>\n",
       "      <td>http://us.imdb.com/M/title-exact?Toy%20Story%2...</td>\n",
       "      <td>0</td>\n",
       "      <td>0</td>\n",
       "      <td>0</td>\n",
       "      <td>1</td>\n",
       "      <td>1</td>\n",
       "      <td>1</td>\n",
       "      <td>...</td>\n",
       "      <td>0</td>\n",
       "      <td>0</td>\n",
       "      <td>0</td>\n",
       "      <td>0</td>\n",
       "      <td>0</td>\n",
       "      <td>0</td>\n",
       "      <td>0</td>\n",
       "      <td>0</td>\n",
       "      <td>0</td>\n",
       "      <td>0</td>\n",
       "    </tr>\n",
       "    <tr>\n",
       "      <th>2</th>\n",
       "      <td>GoldenEye (1995)</td>\n",
       "      <td>01-Jan-1995</td>\n",
       "      <td>NaN</td>\n",
       "      <td>http://us.imdb.com/M/title-exact?GoldenEye%20(...</td>\n",
       "      <td>0</td>\n",
       "      <td>1</td>\n",
       "      <td>1</td>\n",
       "      <td>0</td>\n",
       "      <td>0</td>\n",
       "      <td>0</td>\n",
       "      <td>...</td>\n",
       "      <td>0</td>\n",
       "      <td>0</td>\n",
       "      <td>0</td>\n",
       "      <td>0</td>\n",
       "      <td>0</td>\n",
       "      <td>0</td>\n",
       "      <td>0</td>\n",
       "      <td>1</td>\n",
       "      <td>0</td>\n",
       "      <td>0</td>\n",
       "    </tr>\n",
       "    <tr>\n",
       "      <th>3</th>\n",
       "      <td>Four Rooms (1995)</td>\n",
       "      <td>01-Jan-1995</td>\n",
       "      <td>NaN</td>\n",
       "      <td>http://us.imdb.com/M/title-exact?Four%20Rooms%...</td>\n",
       "      <td>0</td>\n",
       "      <td>0</td>\n",
       "      <td>0</td>\n",
       "      <td>0</td>\n",
       "      <td>0</td>\n",
       "      <td>0</td>\n",
       "      <td>...</td>\n",
       "      <td>0</td>\n",
       "      <td>0</td>\n",
       "      <td>0</td>\n",
       "      <td>0</td>\n",
       "      <td>0</td>\n",
       "      <td>0</td>\n",
       "      <td>0</td>\n",
       "      <td>1</td>\n",
       "      <td>0</td>\n",
       "      <td>0</td>\n",
       "    </tr>\n",
       "    <tr>\n",
       "      <th>4</th>\n",
       "      <td>Get Shorty (1995)</td>\n",
       "      <td>01-Jan-1995</td>\n",
       "      <td>NaN</td>\n",
       "      <td>http://us.imdb.com/M/title-exact?Get%20Shorty%...</td>\n",
       "      <td>0</td>\n",
       "      <td>1</td>\n",
       "      <td>0</td>\n",
       "      <td>0</td>\n",
       "      <td>0</td>\n",
       "      <td>1</td>\n",
       "      <td>...</td>\n",
       "      <td>0</td>\n",
       "      <td>0</td>\n",
       "      <td>0</td>\n",
       "      <td>0</td>\n",
       "      <td>0</td>\n",
       "      <td>0</td>\n",
       "      <td>0</td>\n",
       "      <td>0</td>\n",
       "      <td>0</td>\n",
       "      <td>0</td>\n",
       "    </tr>\n",
       "    <tr>\n",
       "      <th>5</th>\n",
       "      <td>Copycat (1995)</td>\n",
       "      <td>01-Jan-1995</td>\n",
       "      <td>NaN</td>\n",
       "      <td>http://us.imdb.com/M/title-exact?Copycat%20(1995)</td>\n",
       "      <td>0</td>\n",
       "      <td>0</td>\n",
       "      <td>0</td>\n",
       "      <td>0</td>\n",
       "      <td>0</td>\n",
       "      <td>0</td>\n",
       "      <td>...</td>\n",
       "      <td>0</td>\n",
       "      <td>0</td>\n",
       "      <td>0</td>\n",
       "      <td>0</td>\n",
       "      <td>0</td>\n",
       "      <td>0</td>\n",
       "      <td>0</td>\n",
       "      <td>1</td>\n",
       "      <td>0</td>\n",
       "      <td>0</td>\n",
       "    </tr>\n",
       "  </tbody>\n",
       "</table>\n",
       "<p>5 rows × 23 columns</p>\n",
       "</div>"
      ]
     },
     "execution_count": 2,
     "metadata": {},
     "output_type": "execute_result"
    }
   ],
   "execution_count": 2
  },
  {
   "metadata": {
    "ExecuteTime": {
     "end_time": "2024-11-16T16:09:34.076691Z",
     "start_time": "2024-11-16T16:09:34.039304Z"
    }
   },
   "cell_type": "code",
   "source": [
    "r_cols = ['user_id', 'movie_id', 'rating', 'timestamp']\n",
    "ratings = pd.read_csv('data/u.data',sep='\\t',names=r_cols,encoding='latin-1')\n",
    "ratings = ratings.set_index('user_id')\n",
    "ratings.head()"
   ],
   "id": "5e0f767114bd51a",
   "outputs": [
    {
     "data": {
      "text/plain": [
       "         movie_id  rating  timestamp\n",
       "user_id                             \n",
       "196           242       3  881250949\n",
       "186           302       3  891717742\n",
       "22            377       1  878887116\n",
       "244            51       2  880606923\n",
       "166           346       1  886397596"
      ],
      "text/html": [
       "<div>\n",
       "<style scoped>\n",
       "    .dataframe tbody tr th:only-of-type {\n",
       "        vertical-align: middle;\n",
       "    }\n",
       "\n",
       "    .dataframe tbody tr th {\n",
       "        vertical-align: top;\n",
       "    }\n",
       "\n",
       "    .dataframe thead th {\n",
       "        text-align: right;\n",
       "    }\n",
       "</style>\n",
       "<table border=\"1\" class=\"dataframe\">\n",
       "  <thead>\n",
       "    <tr style=\"text-align: right;\">\n",
       "      <th></th>\n",
       "      <th>movie_id</th>\n",
       "      <th>rating</th>\n",
       "      <th>timestamp</th>\n",
       "    </tr>\n",
       "    <tr>\n",
       "      <th>user_id</th>\n",
       "      <th></th>\n",
       "      <th></th>\n",
       "      <th></th>\n",
       "    </tr>\n",
       "  </thead>\n",
       "  <tbody>\n",
       "    <tr>\n",
       "      <th>196</th>\n",
       "      <td>242</td>\n",
       "      <td>3</td>\n",
       "      <td>881250949</td>\n",
       "    </tr>\n",
       "    <tr>\n",
       "      <th>186</th>\n",
       "      <td>302</td>\n",
       "      <td>3</td>\n",
       "      <td>891717742</td>\n",
       "    </tr>\n",
       "    <tr>\n",
       "      <th>22</th>\n",
       "      <td>377</td>\n",
       "      <td>1</td>\n",
       "      <td>878887116</td>\n",
       "    </tr>\n",
       "    <tr>\n",
       "      <th>244</th>\n",
       "      <td>51</td>\n",
       "      <td>2</td>\n",
       "      <td>880606923</td>\n",
       "    </tr>\n",
       "    <tr>\n",
       "      <th>166</th>\n",
       "      <td>346</td>\n",
       "      <td>1</td>\n",
       "      <td>886397596</td>\n",
       "    </tr>\n",
       "  </tbody>\n",
       "</table>\n",
       "</div>"
      ]
     },
     "execution_count": 3,
     "metadata": {},
     "output_type": "execute_result"
    }
   ],
   "execution_count": 3
  },
  {
   "metadata": {},
   "cell_type": "markdown",
   "source": [
    "## 2.2 인기제품 방식\n",
    "\n",
    "개별 사용자에 대한 정보가 없는 경우나, 정확도에 관계없이 가장 간단한 추천을 제공해야 하는 상황에서 사용하는 방법  \n",
    "모든 사람에게 똑같은 추천을 하는 방 "
   ],
   "id": "26e734a969a53a74"
  },
  {
   "metadata": {
    "ExecuteTime": {
     "end_time": "2024-11-16T16:21:09.742606Z",
     "start_time": "2024-11-16T16:21:09.716319Z"
    }
   },
   "cell_type": "code",
   "source": [
    "# Best-seller 추천\n",
    "def recom_movie(n_items):\n",
    "    movie_sort = movie_mean.sort_values(ascending=False)[:n_items]\n",
    "    # sort_values(ascending=False) 데이터 값을 내림차순으로 정렬\n",
    "    recom_movies = movies.loc[movie_sort.index] # loc는 인덱싱 할 때 사용(인덱스 이름,열 이름,행 이름)\n",
    "    recommendations = recom_movies['title']\n",
    "    return recommendations\n",
    "\n",
    "# 한줄로 정#\n",
    "def recom_movie2(n_items):\n",
    "    return movies.loc[movie_mean.sort_values(ascending=False)[:n_items].index]['title']\n",
    "\n",
    "movie_mean = ratings.groupby(['movie_id'])['rating'].mean()\n",
    "recom_movie(5)"
   ],
   "id": "36f91d2089e51879",
   "outputs": [
    {
     "data": {
      "text/plain": [
       "movie_id\n",
       "814                         Great Day in Harlem, A (1994)\n",
       "1599                        Someone Else's America (1995)\n",
       "1201           Marlene Dietrich: Shadow and Light (1996) \n",
       "1122                       They Made Me a Criminal (1939)\n",
       "1653    Entertaining Angels: The Dorothy Day Story (1996)\n",
       "Name: title, dtype: object"
      ]
     },
     "execution_count": 4,
     "metadata": {},
     "output_type": "execute_result"
    }
   ],
   "execution_count": 4
  },
  {
   "metadata": {},
   "cell_type": "markdown",
   "source": [
    "## 2.3 추천 시스템의 정확도 측정\n",
    "\n",
    "RMSE(Root Mean Squared Error)\n",
    "- 예측값과 해당 실제값의 차이(error)의 제곱(squared)의 평균(mean)의 제곱근(root)\n",
    "\n",
    "- $RMSE = \\sqrt{\\frac{1}{n} \\sum_{i=1}^{n} (y_i - \\hat{y}_i)^2}$\n",
    "    - $y_i$: 실제값 (Ground Truth)  \n",
    "    - $\\hat{y}_i$: 예측값 (Predicted Value)  \n",
    "    - $n$: 데이터 포인트의 개수  \n",
    "\n"
   ],
   "id": "8a4a8e17f3350f22"
  },
  {
   "metadata": {
    "ExecuteTime": {
     "end_time": "2024-11-16T16:49:24.286098Z",
     "start_time": "2024-11-16T16:49:23.738677Z"
    }
   },
   "cell_type": "code",
   "source": [
    "import numpy as np\n",
    "# 정확도 계산\n",
    "def RMSE(y_true,y_pred):\n",
    "    return np.sqrt(np.mean((np.array(y_true)-np.array(y_pred))**2))\n",
    "\n",
    "rmse = []\n",
    "for user in set(ratings.index): # set()은 중복을 제거하고 고유한 값을 가지는 데이터 구조를 생성 (user를 뽑기위해)\n",
    "    y_true = ratings.loc[user]['rating']\n",
    "    y_pred = movie_mean[ratings.loc[user]['movie_id']] # user가 평가한 영화들의 평균\n",
    "    accuracy = RMSE(y_true,y_pred)\n",
    "    rmse.append(accuracy)\n",
    "print(np.mean(rmse))"
   ],
   "id": "ef3a64474a2ab6e9",
   "outputs": [
    {
     "name": "stdout",
     "output_type": "stream",
     "text": [
      "0.996007224010567\n"
     ]
    }
   ],
   "execution_count": 8
  },
  {
   "metadata": {},
   "cell_type": "markdown",
   "source": [
    "## 2.4 사용자 집단별 추천\n",
    "\n",
    "사용자들을 비슷한 특성의 사람들을 묶은 소집단으로 만든 다음에 각 집단의 평점평균을 바탕으로 추천하는 것"
   ],
   "id": "b1966149829990b2"
  },
  {
   "metadata": {
    "ExecuteTime": {
     "end_time": "2024-11-18T06:09:45.173852Z",
     "start_time": "2024-11-18T06:09:45.120065Z"
    }
   },
   "cell_type": "code",
   "source": [
    "import pandas as pd\n",
    "import numpy as np\n",
    "\n",
    "# 데이터 읽어 오기 \n",
    "u_cols = ['user_id', 'age', 'sex', 'occupation', 'zip_code']\n",
    "users = pd.read_csv('data/u.user', sep='|', names=u_cols, encoding='latin-1')\n",
    "i_cols = ['movie_id', 'title', 'release date', 'video release date', 'IMDB URL', 'unknown', \n",
    "          'Action', 'Adventure', 'Animation', 'Children\\'s', 'Comedy', 'Crime', 'Documentary', \n",
    "          'Drama', 'Fantasy', 'Film-Noir', 'Horror', 'Musical', 'Mystery', 'Romance', 'Sci-Fi', \n",
    "          'Thriller', 'War', 'Western']\n",
    "movies = pd.read_csv('data/u.item', sep='|', names=i_cols, encoding='latin-1')\n",
    "r_cols = ['user_id', 'movie_id', 'rating', 'timestamp']\n",
    "ratings = pd.read_csv('data/u.data', sep='\\t', names=r_cols, encoding='latin-1')\n",
    "\n",
    "# timestamp 제거\n",
    "ratings=ratings.drop('timestamp',axis = 1)\n",
    "\n",
    "# movies ID와 title 빼고 다른 데이터 제거\n",
    "movies = movies[['movie_id','title']]"
   ],
   "id": "df47e1b209739690",
   "outputs": [],
   "execution_count": 3
  },
  {
   "metadata": {
    "ExecuteTime": {
     "end_time": "2024-11-18T06:16:14.468457Z",
     "start_time": "2024-11-18T06:15:57.675848Z"
    }
   },
   "cell_type": "code",
   "source": [
    "# train, test set 분\n",
    "from sklearn.model_selection import train_test_split\n",
    "x = ratings.copy()\n",
    "y = ratings['user_id']\n",
    "x_train,x_test,y_train,y_test = train_test_split(x,y,test_size=0.25,stratify=y) \n",
    "# stratify는 특정 클래스의 비율(분포)을 유지 None으로 하면 무작위"
   ],
   "id": "8f354eb168e089b",
   "outputs": [],
   "execution_count": 4
  },
  {
   "metadata": {
    "ExecuteTime": {
     "end_time": "2024-11-18T06:24:40.015538Z",
     "start_time": "2024-11-18T06:24:39.969085Z"
    }
   },
   "cell_type": "code",
   "source": [
    "# 정확도(RMSE)를 계산하는 함수\n",
    "def RMSE(y_true,y_pred):\n",
    "    return np.sqrt(np.mean((np.array(y_true)-np.array(y_pred))**2))\n",
    "\n",
    "# 모델별 RMSE를 계산하는 함수\n",
    "def score(model):\n",
    "    id_pairs = zip(x_test['user_id'],x_test['movie_id'])\n",
    "    y_pred = np.array([model(user,movie) for (user,movie) in id_pairs])\n",
    "    y_true = np.array(x_test['rating'])\n",
    "    return RMSE(y_true, y_pred)\n",
    "\n",
    "# train 데이터로 Full matrix 구하기\n",
    "rating_matrix = x_train.pivot(index = 'user_id',columns = 'movie_id',values = 'rating')"
   ],
   "id": "5e43c07de0e29b08",
   "outputs": [],
   "execution_count": 5
  },
  {
   "metadata": {
    "ExecuteTime": {
     "end_time": "2024-11-18T06:27:08.611014Z",
     "start_time": "2024-11-18T06:27:08.517094Z"
    }
   },
   "cell_type": "code",
   "source": [
    "# 전체 평균으로 예측치를 계산하는 기본 모델\n",
    "def best_seller(user_id,movie_id):\n",
    "    try :\n",
    "        rating = train_mean[movie_id]\n",
    "    except:\n",
    "        rating = 3.0\n",
    "    return rating\n",
    "\n",
    "train_mean = x_train.groupby(['movie_id'])['rating'].mean()\n",
    "score(best_seller)"
   ],
   "id": "f898340144b7b34b",
   "outputs": [
    {
     "data": {
      "text/plain": [
       "1.0237545326930837"
      ]
     },
     "execution_count": 6,
     "metadata": {},
     "output_type": "execute_result"
    }
   ],
   "execution_count": 6
  },
  {
   "metadata": {
    "ExecuteTime": {
     "end_time": "2024-11-18T06:34:33.099308Z",
     "start_time": "2024-11-18T06:34:33.058235Z"
    }
   },
   "cell_type": "code",
   "source": [
    "# Full matrix를 사용자 데이터와 merge\n",
    "merged_ratings = pd.merge(x_train,users) # merge()는 공통의 이름을 가진 key가 있으면 그것을 기준으로 합친다\n",
    "users = users.set_index('user_id')\n",
    "\n",
    "# gender별 평점평균 계산\n",
    "g_mean = merged_ratings[['movie_id','sex','rating']].groupby(['movie_id','sex'])['rating'].mean()"
   ],
   "id": "5010675f0b47e9b2",
   "outputs": [],
   "execution_count": 7
  },
  {
   "metadata": {},
   "cell_type": "markdown",
   "source": "### Gender 기준 추천",
   "id": "63ff8f18e339b20a"
  },
  {
   "metadata": {
    "ExecuteTime": {
     "end_time": "2024-11-18T06:48:35.422283Z",
     "start_time": "2024-11-18T06:48:29.461555Z"
    }
   },
   "cell_type": "code",
   "source": [
    "# gender별 평균을 예측치로 돌려주는 함수\n",
    "def cf_gender(user_id,movie_id):\n",
    "    if movie_id in rating_matrix:\n",
    "        gender = users.loc[user_id]['sex']\n",
    "        if gender in g_mean[movie_id]:\n",
    "            gender_rating = g_mean[movie_id][gender]\n",
    "        else :\n",
    "            gender_rating = 3.0\n",
    "    else :\n",
    "        gender_rating = 3.0\n",
    "    return gender_rating\n",
    "\n",
    "score(cf_gender)"
   ],
   "id": "84017125af82993",
   "outputs": [
    {
     "data": {
      "text/plain": [
       "1.0333541676225388"
      ]
     },
     "execution_count": 11,
     "metadata": {},
     "output_type": "execute_result"
    }
   ],
   "execution_count": 11
  },
  {
   "metadata": {},
   "cell_type": "markdown",
   "source": [
    "### 연습문제\n",
    "\n",
    "2-1 위의 성별('gender')추천 코드를 수정해서 사용자의 직업('occupation')에 따라 집단을 나누어서 예측값을 구하는 함수를 만들고 이의 정확도를 계산하는 코드를 작성하시오"
   ],
   "id": "81d05f83b6a98419"
  },
  {
   "metadata": {
    "ExecuteTime": {
     "end_time": "2024-11-18T07:11:00.454684Z",
     "start_time": "2024-11-18T07:11:00.445952Z"
    }
   },
   "cell_type": "code",
   "source": "",
   "id": "4f94257b9cb72b01",
   "outputs": [
    {
     "data": {
      "text/plain": [
       "movie_id  sex\n",
       "1         F      3.765432\n",
       "          M      3.892308\n",
       "2         F      3.500000\n",
       "          M      3.117021\n",
       "3         F      2.538462\n",
       "Name: rating, dtype: float64"
      ]
     },
     "execution_count": 14,
     "metadata": {},
     "output_type": "execute_result"
    }
   ],
   "execution_count": 14
  },
  {
   "metadata": {
    "ExecuteTime": {
     "end_time": "2024-11-18T07:13:04.778566Z",
     "start_time": "2024-11-18T07:12:58.452948Z"
    }
   },
   "cell_type": "code",
   "source": [
    "# 직업별 평점평균 계산\n",
    "o_mean = merged_ratings[['movie_id', 'occupation', 'rating']].groupby(['movie_id', 'occupation'])['rating'].mean()\n",
    "\n",
    "def cf_occupation(user_id,movie_id):\n",
    "    if movie_id in rating_matrix:\n",
    "        occupation = users.loc[user_id]['occupation']\n",
    "        if occupation in o_mean[movie_id]:\n",
    "            occupation_rating = o_mean[movie_id][occupation]\n",
    "        else :\n",
    "            occupation_rating = 3.0\n",
    "    else :\n",
    "        occupation_rating = 3.0\n",
    "    return occupation_rating\n",
    "\n",
    "score(cf_occupation)"
   ],
   "id": "27d6dcdfa35ca06d",
   "outputs": [
    {
     "data": {
      "text/plain": [
       "1.1116366168470408"
      ]
     },
     "execution_count": 16,
     "metadata": {},
     "output_type": "execute_result"
    }
   ],
   "execution_count": 16
  },
  {
   "metadata": {},
   "cell_type": "markdown",
   "source": "2-2 사용자의 성별과 직업을 동시에 고려한 집단을 나누어서 예측값을 구하는 함수를ㄹ 만들고 이의 정확도을 계산하는 코드를 작성하시오",
   "id": "b2c93d2de0de2e34"
  },
  {
   "metadata": {
    "ExecuteTime": {
     "end_time": "2024-11-18T08:06:34.346672Z",
     "start_time": "2024-11-18T08:06:34.298852Z"
    }
   },
   "cell_type": "code",
   "source": [
    "g_o_mean = merged_ratings[['movie_id','occupation','sex','rating']].groupby(['movie_id','sex','occupation'])['rating'].mean()\n",
    "g_o_mean.head(20)\n",
    "users.loc[1:15]"
   ],
   "id": "7c50c11ffe000b41",
   "outputs": [
    {
     "data": {
      "text/plain": [
       "         age sex     occupation zip_code\n",
       "user_id                                 \n",
       "1         24   M     technician    85711\n",
       "2         53   F          other    94043\n",
       "3         23   M         writer    32067\n",
       "4         24   M     technician    43537\n",
       "5         33   F          other    15213\n",
       "6         42   M      executive    98101\n",
       "7         57   M  administrator    91344\n",
       "8         36   M  administrator    05201\n",
       "9         29   M        student    01002\n",
       "10        53   M         lawyer    90703\n",
       "11        39   F          other    30329\n",
       "12        28   F          other    06405\n",
       "13        47   M       educator    29206\n",
       "14        45   M      scientist    55106\n",
       "15        49   F       educator    97301"
      ],
      "text/html": [
       "<div>\n",
       "<style scoped>\n",
       "    .dataframe tbody tr th:only-of-type {\n",
       "        vertical-align: middle;\n",
       "    }\n",
       "\n",
       "    .dataframe tbody tr th {\n",
       "        vertical-align: top;\n",
       "    }\n",
       "\n",
       "    .dataframe thead th {\n",
       "        text-align: right;\n",
       "    }\n",
       "</style>\n",
       "<table border=\"1\" class=\"dataframe\">\n",
       "  <thead>\n",
       "    <tr style=\"text-align: right;\">\n",
       "      <th></th>\n",
       "      <th>age</th>\n",
       "      <th>sex</th>\n",
       "      <th>occupation</th>\n",
       "      <th>zip_code</th>\n",
       "    </tr>\n",
       "    <tr>\n",
       "      <th>user_id</th>\n",
       "      <th></th>\n",
       "      <th></th>\n",
       "      <th></th>\n",
       "      <th></th>\n",
       "    </tr>\n",
       "  </thead>\n",
       "  <tbody>\n",
       "    <tr>\n",
       "      <th>1</th>\n",
       "      <td>24</td>\n",
       "      <td>M</td>\n",
       "      <td>technician</td>\n",
       "      <td>85711</td>\n",
       "    </tr>\n",
       "    <tr>\n",
       "      <th>2</th>\n",
       "      <td>53</td>\n",
       "      <td>F</td>\n",
       "      <td>other</td>\n",
       "      <td>94043</td>\n",
       "    </tr>\n",
       "    <tr>\n",
       "      <th>3</th>\n",
       "      <td>23</td>\n",
       "      <td>M</td>\n",
       "      <td>writer</td>\n",
       "      <td>32067</td>\n",
       "    </tr>\n",
       "    <tr>\n",
       "      <th>4</th>\n",
       "      <td>24</td>\n",
       "      <td>M</td>\n",
       "      <td>technician</td>\n",
       "      <td>43537</td>\n",
       "    </tr>\n",
       "    <tr>\n",
       "      <th>5</th>\n",
       "      <td>33</td>\n",
       "      <td>F</td>\n",
       "      <td>other</td>\n",
       "      <td>15213</td>\n",
       "    </tr>\n",
       "    <tr>\n",
       "      <th>6</th>\n",
       "      <td>42</td>\n",
       "      <td>M</td>\n",
       "      <td>executive</td>\n",
       "      <td>98101</td>\n",
       "    </tr>\n",
       "    <tr>\n",
       "      <th>7</th>\n",
       "      <td>57</td>\n",
       "      <td>M</td>\n",
       "      <td>administrator</td>\n",
       "      <td>91344</td>\n",
       "    </tr>\n",
       "    <tr>\n",
       "      <th>8</th>\n",
       "      <td>36</td>\n",
       "      <td>M</td>\n",
       "      <td>administrator</td>\n",
       "      <td>05201</td>\n",
       "    </tr>\n",
       "    <tr>\n",
       "      <th>9</th>\n",
       "      <td>29</td>\n",
       "      <td>M</td>\n",
       "      <td>student</td>\n",
       "      <td>01002</td>\n",
       "    </tr>\n",
       "    <tr>\n",
       "      <th>10</th>\n",
       "      <td>53</td>\n",
       "      <td>M</td>\n",
       "      <td>lawyer</td>\n",
       "      <td>90703</td>\n",
       "    </tr>\n",
       "    <tr>\n",
       "      <th>11</th>\n",
       "      <td>39</td>\n",
       "      <td>F</td>\n",
       "      <td>other</td>\n",
       "      <td>30329</td>\n",
       "    </tr>\n",
       "    <tr>\n",
       "      <th>12</th>\n",
       "      <td>28</td>\n",
       "      <td>F</td>\n",
       "      <td>other</td>\n",
       "      <td>06405</td>\n",
       "    </tr>\n",
       "    <tr>\n",
       "      <th>13</th>\n",
       "      <td>47</td>\n",
       "      <td>M</td>\n",
       "      <td>educator</td>\n",
       "      <td>29206</td>\n",
       "    </tr>\n",
       "    <tr>\n",
       "      <th>14</th>\n",
       "      <td>45</td>\n",
       "      <td>M</td>\n",
       "      <td>scientist</td>\n",
       "      <td>55106</td>\n",
       "    </tr>\n",
       "    <tr>\n",
       "      <th>15</th>\n",
       "      <td>49</td>\n",
       "      <td>F</td>\n",
       "      <td>educator</td>\n",
       "      <td>97301</td>\n",
       "    </tr>\n",
       "  </tbody>\n",
       "</table>\n",
       "</div>"
      ]
     },
     "execution_count": 32,
     "metadata": {},
     "output_type": "execute_result"
    }
   ],
   "execution_count": 32
  },
  {
   "metadata": {
    "ExecuteTime": {
     "end_time": "2024-11-18T08:27:24.211353Z",
     "start_time": "2024-11-18T08:26:56.973149Z"
    }
   },
   "cell_type": "code",
   "source": [
    "def cf_occ_sex(user_id, movie_id):\n",
    "    if movie_id in rating_matrix:\n",
    "        gender = users.loc[user_id]['sex']\n",
    "        occupation = users.loc[user_id]['occupation']\n",
    "        if (gender,occupation) in g_o_mean[movie_id]:\n",
    "            occ_sex_rating = g_o_mean[movie_id][gender][occupation]\n",
    "        elif occupation in g_o_mean[movie_id]:\n",
    "            occ_sex_rating = o_mean[movie_id][occupation]\n",
    "        elif gender in g_o_mean[movie_id]:\n",
    "            occ_sex_rating = g_mean[movie_id][gender]\n",
    "        else :\n",
    "            occ_sex_rating = 3.0\n",
    "    else:\n",
    "        occ_sex_rating = 3.0\n",
    "    return occ_sex_rating\n",
    "\n",
    "score(cf_occ_sex)"
   ],
   "id": "ecc16590e9f203ac",
   "outputs": [
    {
     "data": {
      "text/plain": [
       "1.1329243917692464"
      ]
     },
     "execution_count": 37,
     "metadata": {},
     "output_type": "execute_result"
    }
   ],
   "execution_count": 37
  },
  {
   "metadata": {},
   "cell_type": "markdown",
   "source": [
    "## 2.5 내용 기반 필터링 추천(CB)\n",
    "\n",
    "1. 아이템 간의 유사도를 어떤 방법으로 계산할 것인가  \n",
    "    **tf-idf** : 아이템 간의 유사도를 측정하는 지표. \n",
    "    - 어떤 단어가 해당 문서(아이템)에 얼마나 자주 등장(term frequency), 다른 문서에 비해서 상대적으로 얼마나 자주 등장하는가(inverse document frequency)를 계산\n",
    "    - tf와 idf를 조합해서 각 문서(아이템)에 등장하는 모든 단어의 가중치(중요도)를 계산\n",
    "    - 이들 단어의 가중치가 문서 간에 얼마나 유사한지를 *cosin similarity* 지표를 사용해서 계산\n",
    "\n",
    "<br>\n",
    "\n",
    "2. 사용자가 좋게 평가한 아이템을 몇 개나 선정할 것인가\n",
    "3. 만일 2에서 다수의 아이템을 선정한 경우에 각 아이템과 유사도가 높은 아이템이 별도로 존재할 것인데 이를 어떻게 결합할 것인가\n"
   ],
   "id": "3d8e42d695d9424d"
  },
  {
   "metadata": {
    "ExecuteTime": {
     "end_time": "2024-11-20T04:50:36.915241Z",
     "start_time": "2024-11-20T04:50:36.422526Z"
    }
   },
   "cell_type": "code",
   "source": [
    "import kagglehub\n",
    "\n",
    "# Download latest version\n",
    "path = kagglehub.dataset_download(\"rounakbanik/the-movies-dataset\")\n",
    "\n",
    "print(\"Path to dataset files:\", path)"
   ],
   "id": "6245b952dc64e617",
   "outputs": [
    {
     "name": "stdout",
     "output_type": "stream",
     "text": [
      "Warning: Looks like you're using an outdated `kagglehub` version, please consider updating (latest version: 0.3.4)\n",
      "Path to dataset files: /Users/igwanhyeong/.cache/kagglehub/datasets/rounakbanik/the-movies-dataset/versions/7\n"
     ]
    }
   ],
   "execution_count": 1
  },
  {
   "metadata": {
    "ExecuteTime": {
     "end_time": "2024-11-20T04:51:04.134693Z",
     "start_time": "2024-11-20T04:51:03.729955Z"
    }
   },
   "cell_type": "code",
   "source": [
    "import pandas as pd\n",
    "\n",
    "# Data 읽기\n",
    "movies = pd.read_csv('data/movies_metadata.csv', encoding='latin-1', low_memory=False)\n",
    "movies = movies[['id', 'title', 'overview']]\n",
    "movies.head(10)"
   ],
   "id": "5096cd6cc1cc96c7",
   "outputs": [
    {
     "data": {
      "text/plain": [
       "      id                        title  \\\n",
       "0    862                    Toy Story   \n",
       "1   8844                      Jumanji   \n",
       "2  15602             Grumpier Old Men   \n",
       "3  31357            Waiting to Exhale   \n",
       "4  11862  Father of the Bride Part II   \n",
       "5    949                         Heat   \n",
       "6  11860                      Sabrina   \n",
       "7  45325                 Tom and Huck   \n",
       "8   9091                 Sudden Death   \n",
       "9    710                    GoldenEye   \n",
       "\n",
       "                                            overview  \n",
       "0  Led by Woody, Andy's toys live happily in his ...  \n",
       "1  When siblings Judy and Peter discover an encha...  \n",
       "2  A family wedding reignites the ancient feud be...  \n",
       "3  Cheated on, mistreated and stepped on, the wom...  \n",
       "4  Just when George Banks has recovered from his ...  \n",
       "5  Obsessive master thief, Neil McCauley leads a ...  \n",
       "6  An ugly duckling having undergone a remarkable...  \n",
       "7  A mischievous young boy, Tom Sawyer, witnesses...  \n",
       "8  International action superstar Jean Claude Van...  \n",
       "9  James Bond must unmask the mysterious head of ...  "
      ],
      "text/html": [
       "<div>\n",
       "<style scoped>\n",
       "    .dataframe tbody tr th:only-of-type {\n",
       "        vertical-align: middle;\n",
       "    }\n",
       "\n",
       "    .dataframe tbody tr th {\n",
       "        vertical-align: top;\n",
       "    }\n",
       "\n",
       "    .dataframe thead th {\n",
       "        text-align: right;\n",
       "    }\n",
       "</style>\n",
       "<table border=\"1\" class=\"dataframe\">\n",
       "  <thead>\n",
       "    <tr style=\"text-align: right;\">\n",
       "      <th></th>\n",
       "      <th>id</th>\n",
       "      <th>title</th>\n",
       "      <th>overview</th>\n",
       "    </tr>\n",
       "  </thead>\n",
       "  <tbody>\n",
       "    <tr>\n",
       "      <th>0</th>\n",
       "      <td>862</td>\n",
       "      <td>Toy Story</td>\n",
       "      <td>Led by Woody, Andy's toys live happily in his ...</td>\n",
       "    </tr>\n",
       "    <tr>\n",
       "      <th>1</th>\n",
       "      <td>8844</td>\n",
       "      <td>Jumanji</td>\n",
       "      <td>When siblings Judy and Peter discover an encha...</td>\n",
       "    </tr>\n",
       "    <tr>\n",
       "      <th>2</th>\n",
       "      <td>15602</td>\n",
       "      <td>Grumpier Old Men</td>\n",
       "      <td>A family wedding reignites the ancient feud be...</td>\n",
       "    </tr>\n",
       "    <tr>\n",
       "      <th>3</th>\n",
       "      <td>31357</td>\n",
       "      <td>Waiting to Exhale</td>\n",
       "      <td>Cheated on, mistreated and stepped on, the wom...</td>\n",
       "    </tr>\n",
       "    <tr>\n",
       "      <th>4</th>\n",
       "      <td>11862</td>\n",
       "      <td>Father of the Bride Part II</td>\n",
       "      <td>Just when George Banks has recovered from his ...</td>\n",
       "    </tr>\n",
       "    <tr>\n",
       "      <th>5</th>\n",
       "      <td>949</td>\n",
       "      <td>Heat</td>\n",
       "      <td>Obsessive master thief, Neil McCauley leads a ...</td>\n",
       "    </tr>\n",
       "    <tr>\n",
       "      <th>6</th>\n",
       "      <td>11860</td>\n",
       "      <td>Sabrina</td>\n",
       "      <td>An ugly duckling having undergone a remarkable...</td>\n",
       "    </tr>\n",
       "    <tr>\n",
       "      <th>7</th>\n",
       "      <td>45325</td>\n",
       "      <td>Tom and Huck</td>\n",
       "      <td>A mischievous young boy, Tom Sawyer, witnesses...</td>\n",
       "    </tr>\n",
       "    <tr>\n",
       "      <th>8</th>\n",
       "      <td>9091</td>\n",
       "      <td>Sudden Death</td>\n",
       "      <td>International action superstar Jean Claude Van...</td>\n",
       "    </tr>\n",
       "    <tr>\n",
       "      <th>9</th>\n",
       "      <td>710</td>\n",
       "      <td>GoldenEye</td>\n",
       "      <td>James Bond must unmask the mysterious head of ...</td>\n",
       "    </tr>\n",
       "  </tbody>\n",
       "</table>\n",
       "</div>"
      ]
     },
     "execution_count": 4,
     "metadata": {},
     "output_type": "execute_result"
    }
   ],
   "execution_count": 4
  },
  {
   "metadata": {
    "ExecuteTime": {
     "end_time": "2024-11-20T04:53:17.546669Z",
     "start_time": "2024-11-20T04:52:28.117491Z"
    }
   },
   "cell_type": "code",
   "source": [
    "# 데이터 전처리\n",
    "movies = movies.dropna()\n",
    "movies['overview']=movies['overview'].fillna(' ')\n",
    "print(len(movies))\n",
    "\n",
    "# 불용어를 english로 지정하고 tf-idf 계산\n",
    "from sklearn.feature_extraction.text import TfidfVectorizer\n",
    "tfidf = TfidfVectorizer(stop_words='english') # 불용어 english로 지정 (a, the, and 등등)\n",
    "tfidf_matrix = tfidf.fit_transform(movies['overview'])\n",
    "\n",
    "# Cosin 유사도 계산\n",
    "from sklearn.metrics.pairwise import cosine_similarity\n",
    "cosine_sim = cosine_similarity(tfidf_matrix,tfidf_matrix)\n",
    "cosine_sim = pd.DataFrame(cosine_sim,index=movies.index,columns=movies.index)"
   ],
   "id": "b3c5712d5591606",
   "outputs": [
    {
     "name": "stdout",
     "output_type": "stream",
     "text": [
      "44506\n"
     ]
    }
   ],
   "execution_count": 5
  },
  {
   "metadata": {
    "ExecuteTime": {
     "end_time": "2024-11-20T05:06:50.934720Z",
     "start_time": "2024-11-20T05:06:48.737907Z"
    }
   },
   "cell_type": "code",
   "source": [
    "# index-title을 뒤집는다\n",
    "indices = pd.Series(movies.index,index=movies['title'])\n",
    "\n",
    "# 영화제목을 받아서 추천 영화를 돌려주는 함수\n",
    "def content_recommender(title,n_of_recomm):\n",
    "    # title에서 영화 index 받아오기\n",
    "    idx = indices[title]\n",
    "    # 주어진 영화와 다른 영화의 similarity를 가져온다\n",
    "    sim_scores = cosine_sim[idx]\n",
    "    # similarity 기준으로 정렬하고 n_of_recomm만큼 가져오기(자기 자신 제외)\n",
    "    sim_scores = sim_scores.sort_values(ascending=False)[1:n_of_recomm+1]\n",
    "    # 영화 title 반환\n",
    "    return movies.loc[sim_scores.index]['title']\n",
    "\n",
    "# 추천받기\n",
    "print(content_recommender('The Lion King',5))\n",
    "print(content_recommender('The Dark Knight Rises',10))"
   ],
   "id": "b846aaa7fa5fd165",
   "outputs": [
    {
     "name": "stdout",
     "output_type": "stream",
     "text": [
      "34682    How the Lion Cub and the Turtle Sang a Song\n",
      "9353                               The Lion King 1Â½\n",
      "9115                  The Lion King 2: Simba's Pride\n",
      "42829                                           Prey\n",
      "25654                                 Fearless Fagan\n",
      "Name: title, dtype: object\n",
      "12481                                      The Dark Knight\n",
      "150                                         Batman Forever\n",
      "1328                                        Batman Returns\n",
      "15511                           Batman: Under the Red Hood\n",
      "585                                                 Batman\n",
      "21194    Batman Unmasked: The Psychology of the Dark Kn...\n",
      "9230                    Batman Beyond: Return of the Joker\n",
      "18035                                     Batman: Year One\n",
      "19792              Batman: The Dark Knight Returns, Part 1\n",
      "3095                          Batman: Mask of the Phantasm\n",
      "Name: title, dtype: object\n"
     ]
    }
   ],
   "execution_count": 8
  }
 ],
 "metadata": {
  "kernelspec": {
   "display_name": "Python 3",
   "language": "python",
   "name": "python3"
  },
  "language_info": {
   "codemirror_mode": {
    "name": "ipython",
    "version": 2
   },
   "file_extension": ".py",
   "mimetype": "text/x-python",
   "name": "python",
   "nbconvert_exporter": "python",
   "pygments_lexer": "ipython2",
   "version": "2.7.6"
  }
 },
 "nbformat": 4,
 "nbformat_minor": 5
}
