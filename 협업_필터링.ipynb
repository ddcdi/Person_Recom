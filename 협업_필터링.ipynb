{
 "cells": [
  {
   "metadata": {},
   "cell_type": "markdown",
   "source": [
    "# 제3장 협업 필터링 추천 시스템\n",
    "\n",
    "**협업 필터링(CF)** : 사용자를 성별이나 직업과 같은 인구 통계적 변수를 기준으로 나누지 않고 취향을 기준으로 나누는 것이다\n",
    "\n",
    "## 3.1 협업 필터링의 원리\n",
    "\n",
    "추천의 대상이 되는 어떤 한 사람이 있으면, 이 사람과 취향이 비슷한 사람들(neighbor)을 찾아내기만 하면 이사람들이 공통적으로 좋아하는 제품,서비스를 추천 대상인 사람에게 추천하면 된다는 아이디어"
   ],
   "id": "fc4d79360ebc95e8"
  },
  {
   "metadata": {},
   "cell_type": "markdown",
   "source": [
    "## 3.2 유사도 지표\n",
    "\n",
    "### 1) 상관계수\n",
    "평가 자료가 연속값인 경우에 가장 이해하기 쉬운 유사도로는 상관계수(correlation coefficient)가 있다.  \n",
    "일반적으로 상관계수를 말하면 **피어슨 상관계수(pearson correlation coefficient)** 를 말함\n",
    "\n",
    "$r = \\frac{\\sum_{i=1}^{n} (x_i - \\bar{x})(y_i - \\bar{y})}{\\sqrt{\\sum_{i=1}^{n} (x_i - \\bar{x})^2} \\sqrt{\\sum_{i=1}^{n} (y_i - \\bar{y})^2}}$\n",
    "\n",
    "- $x,y$ : 두 사용자가 공통으로 평가한 아이템($I$) 중에서 $i$번째 아이템에 대한 이 두 사용자의 평가값이다.\n",
    "- $\\bar{x},\\bar{y}$ : 각각의 평균값\n",
    "- 상관계수는 최소 -1(완전 반대)에서 최대 1(완전 일치)까지의 값을 가진다.\n",
    "\n",
    "### 2) 코사인 유사도\n",
    "코사인 유사도에서는 각 아이템을 하나의 차원(dimension)으로 보고 사용자의 평가값을 좌표값으로 본다.\n",
    "그렇게 되면 각 사용자의 평가값을 벡터로 해서 두사용자 간의 벡터의 각도(코사인값)를 구할 수 있다.\n",
    "\n",
    "$\\text{simil}(x, y) = \\frac{\\vec{x} \\cdot \\vec{y}}{\\|\\vec{x}\\| \\|\\vec{y}\\|} = \\frac{\\sum_{i=1}^{n} x_i y_i}{\\sqrt{\\sum_{i=1}^{n} x_i^2} \\sqrt{\\sum_{i=1}^{n} y_i^2}}$\n",
    "\n",
    "만일 데이터가 이진값(binary)을 가진다면 위의 상관계수나 코사인 유사도는 사용할 수 없다  \n",
    "이 경우 **타니모토 계수(Tanimoto coefficient)** 가 있다  \n",
    "\n",
    "### 3) 타니모토 계수\n",
    "\n",
    "$\\text{simil}(x, y) = \\frac{c}{a+b-c}$\n",
    "- a: 사용자 x가 1의 값을 갖는 아이템의 수\n",
    "- b: 사용자 y가 1의 값을 갖는 아이템의 수\n",
    "- c: 사용자 x와 y가 공통적으로 1의 값을 갖는 아이템의 수\n",
    "\n",
    "### 4) 자카드 계수(Jaccard coefficient)\n",
    "\n",
    "이진수로 이루어진 데이터에 대해서 유사도를 구한다  \n",
    "0~1 사이의 값을 가지며 두 집합이 동일하면 1의 값을 가지고, 공통  원소가 없으면 0을 가진다.  \n",
    "\n",
    "$J(A, B) = \\frac{|A \\cap B|}{|A \\cup B|}$\n",
    "- $|A \\cap B|$ : 두집합 $A$와 $B$의 교집합 크기\n",
    "- $|A \\cup B|$ : 두집합 $A$와 $B$의 합집합 크기\n"
   ],
   "id": "e71490a4666f02c6"
  },
  {
   "metadata": {},
   "cell_type": "markdown",
   "source": [
    "## 3.3 기본 CF 알고리즘  \n",
    "\n",
    "1. 모든 사용자 간의 평가의 유사도를 계산한다. 위에서 설명한 상관계수, 코사인 유사도 등을 사용  \n",
    "\n",
    "2. 현재 추천 대상이 되는 사람과 다른 사용자의 유사도를 추출한다.\n",
    "\n",
    "3. 현재 사용자가 평가하지 않은 모든 아이템에 대해서 현재 사용자의 예상 평가 값을 구한다\n",
    "    - 예상 평가값은 다른 사용자의 해당 아이템에 대한 평가(평점)를 현재 사용자와 그 사용자와의 유사도로 가중해서 평균을 낸다.\n",
    "\n",
    "4. 아이템 중에서 예상 평가값이 가장 높은 N개의 아이템을 추천한다."
   ],
   "id": "891c715ce2eea441"
  },
  {
   "metadata": {
    "collapsed": true,
    "ExecuteTime": {
     "end_time": "2024-11-23T16:14:56.570986Z",
     "start_time": "2024-11-23T16:13:52.303233Z"
    }
   },
   "cell_type": "code",
   "source": [
    "# 사전 준비\n",
    "import numpy as np\n",
    "import pandas as pd\n",
    "from sympy.integrals.rationaltools import ratint_ratpart\n",
    "\n",
    "# 데이터 읽어 오기 \n",
    "# 데이터 읽어 오기 \n",
    "u_cols = ['user_id', 'age', 'sex', 'occupation', 'zip_code']\n",
    "users = pd.read_csv('data/u.user', sep='|', names=u_cols, encoding='latin-1')\n",
    "i_cols = ['movie_id', 'title', 'release date', 'video release date', 'IMDB URL', 'unknown', \n",
    "          'Action', 'Adventure', 'Animation', 'Children\\'s', 'Comedy', 'Crime', 'Documentary', \n",
    "          'Drama', 'Fantasy', 'Film-Noir', 'Horror', 'Musical', 'Mystery', 'Romance', 'Sci-Fi', \n",
    "          'Thriller', 'War', 'Western']\n",
    "movies = pd.read_csv('data/u.item', sep='|', names=i_cols, encoding='latin-1')\n",
    "r_cols = ['user_id', 'movie_id', 'rating', 'timestamp']\n",
    "ratings = pd.read_csv('data/u.data', sep='\\t', names=r_cols, encoding='latin-1')\n",
    "\n",
    "# timestamp 제거 \n",
    "ratings = ratings.drop('timestamp', axis=1)\n",
    "# movie ID와 title 빼고 다른 데이터 제거\n",
    "movies = movies[['movie_id', 'title']]\n",
    "\n",
    "# train, test 데이터 분리\n",
    "from sklearn.model_selection import train_test_split\n",
    "x = ratings.copy()\n",
    "y = ratings['user_id']\n",
    "x_train, x_test, y_train, y_test = train_test_split(x, y, test_size=0.25, stratify=y)\n",
    "\n",
    "# 정확도(RMSE)를 계산하는 함수 \n",
    "def RMSE(y_true, y_pred):\n",
    "    return np.sqrt(np.mean((np.array(y_true) - np.array(y_pred))**2))\n",
    "\n",
    "# 모델별 RMSE를 계산하는 함수 \n",
    "def score(model):\n",
    "    id_pairs = zip(x_test['user_id'], x_test['movie_id'])\n",
    "    y_pred = np.array([model(user, movie) for (user, movie) in id_pairs])\n",
    "    y_true = np.array(x_test['rating'])\n",
    "    return RMSE(y_true, y_pred)\n",
    "\n",
    "# train 데이터로 Full matrix 구하기 \n",
    "rating_matrix = x_train.pivot(index='user_id', columns='movie_id', values='rating')"
   ],
   "id": "initial_id",
   "outputs": [],
   "execution_count": 1
  },
  {
   "metadata": {
    "ExecuteTime": {
     "end_time": "2024-11-23T16:38:40.907480Z",
     "start_time": "2024-11-23T16:38:40.784536Z"
    }
   },
   "cell_type": "code",
   "source": [
    "# train set의 모든 가능한 사용자 pair의 Cosine similarities 계산\n",
    "from sklearn.metrics.pairwise import cosine_similarity\n",
    "matrix_dummy = rating_matrix.copy().fillna(0) # 계산할때 NaN값이 있으면 오류 발생\n",
    "user_similarity = cosine_similarity(matrix_dummy,matrix_dummy)\n",
    "user_similarity = pd.DataFrame(user_similarity,index=rating_matrix.index,columns=rating_matrix.index)"
   ],
   "id": "19dd330ff0e3bdb5",
   "outputs": [],
   "execution_count": 2
  },
  {
   "metadata": {
    "ExecuteTime": {
     "end_time": "2024-11-21T07:56:41.816567Z",
     "start_time": "2024-11-21T07:56:41.810912Z"
    }
   },
   "cell_type": "code",
   "outputs": [
    {
     "data": {
      "text/plain": [
       "174.35828033263857"
      ]
     },
     "execution_count": 7,
     "metadata": {},
     "output_type": "execute_result"
    }
   ],
   "execution_count": 7,
   "source": "user_similarity[1].sum()",
   "id": "f3e1b1be9a6a161e"
  },
  {
   "metadata": {
    "ExecuteTime": {
     "end_time": "2024-11-23T16:39:01.589920Z",
     "start_time": "2024-11-23T16:38:42.459220Z"
    }
   },
   "cell_type": "code",
   "source": [
    "# 주어진 영화의 (movie_id) 가중평균 rating을 계산하는 함수\n",
    "# 가중치는 주어진 사용자와 다른 사용자 간의 유사도(user_similarity)\n",
    "def CF_simple(user_id,movie_id):\n",
    "    if movie_id in rating_matrix:\n",
    "        sim_scores = user_similarity[user_id].copy()\n",
    "        movie_ratings = rating_matrix[movie_id].copy()\n",
    "        # 주어진 영화에 대해서 평가를 하지 않은 사용자의 위치확인 -> 이 사용자들에 대해서는 가중평균 계산에서 빼기 위함\n",
    "        none_rating_idx = movie_ratings[movie_ratings.isnull()].index\n",
    "        movie_ratings = movie_ratings.dropna()\n",
    "        # 가중평균 계산에서 빼기\n",
    "        sim_scores = sim_scores.drop(none_rating_idx)\n",
    "        # 가중합을 유사도의 합으로 나누어, 유사도를 기준으로 조정된 평균값을 계산\n",
    "        # 가중합 : 사용자의 평점에 해당 사용자의 유사도를 곱한 값을 모두 더한 것\n",
    "        mean_rating = np.dot(sim_scores,movie_ratings) / sim_scores.sum() # np.dot() 행렬곱\n",
    "    else:\n",
    "        mean_rating = 3.0\n",
    "    return mean_rating\n",
    "\n",
    "# 정확도 계산\n",
    "score(CF_simple)"
   ],
   "id": "d59b62397e20bc0c",
   "outputs": [
    {
     "data": {
      "text/plain": [
       "1.0115345408655512"
      ]
     },
     "execution_count": 3,
     "metadata": {},
     "output_type": "execute_result"
    }
   ],
   "execution_count": 3
  },
  {
   "metadata": {},
   "cell_type": "markdown",
   "source": [
    "### 연습문제\n",
    "\n",
    "3-1 위의 코드를 수정해서 코사인 유사도 대신에 피어슨 상관계수를 사용하는 코드를 작성하고 RMSE를 계산하시오"
   ],
   "id": "78bdac22cbb419a3"
  },
  {
   "metadata": {
    "ExecuteTime": {
     "end_time": "2024-11-23T16:39:05.348024Z",
     "start_time": "2024-11-23T16:39:05.300906Z"
    }
   },
   "cell_type": "code",
   "source": [
    "user_similarity_pearson = np.corrcoef(matrix_dummy) # np.corrcoef() 피어슨 상관계수 계산 기본적으로 행을 기준으로 계산\n",
    "user_similarity_pearson = pd.DataFrame(user_similarity_pearson,index=rating_matrix.index,columns=rating_matrix.index)"
   ],
   "id": "332f29c396456057",
   "outputs": [],
   "execution_count": 4
  },
  {
   "metadata": {
    "ExecuteTime": {
     "end_time": "2024-11-23T16:39:26.419328Z",
     "start_time": "2024-11-23T16:39:06.942996Z"
    }
   },
   "cell_type": "code",
   "source": [
    "# 가중치는 주어진 사용자와 다른 사용자 간의 유사도(user_similarity_pearson)\n",
    "def CF_simple_pearson(user_id,movie_id):\n",
    "    if movie_id in rating_matrix:\n",
    "        sim_scores = user_similarity_pearson[user_id].copy()\n",
    "        movie_ratings = rating_matrix[movie_id].copy()\n",
    "        # 주어진 영화에 대해서 평가를 하지 않은 사용자의 위치확인 -> 이 사용자들에 대해서는 가중평균 계산에서 빼기 위함\n",
    "        none_rating_idx = movie_ratings[movie_ratings.isnull()].index\n",
    "        movie_ratings = movie_ratings.dropna()\n",
    "        # 가중평균 계산에서 빼기\n",
    "        sim_scores = sim_scores.drop(none_rating_idx)\n",
    "        # 가중합을 유사도의 합으로 나누어, 유사도를 기준으로 조정된 평균값을 계산\n",
    "        # 가중합 : 사용자의 평점에 해당 사용자의 유사도를 곱한 값을 모두 더한 것\n",
    "        mean_rating = np.dot(sim_scores,movie_ratings) / sim_scores.sum() # np.dot() 행렬곱\n",
    "    else:\n",
    "        mean_rating = 3.0\n",
    "    return mean_rating\n",
    "\n",
    "# 정확도 계산\n",
    "score(CF_simple_pearson)"
   ],
   "id": "a3190ed19ab8544e",
   "outputs": [
    {
     "data": {
      "text/plain": [
       "1.2720809781598486"
      ]
     },
     "execution_count": 5,
     "metadata": {},
     "output_type": "execute_result"
    }
   ],
   "execution_count": 5
  },
  {
   "metadata": {},
   "cell_type": "markdown",
   "source": [
    "## 3.4 이웃을 고려한 CF\n",
    "\n",
    "**K Nearest Neighbors(KNN)** : 이웃의 크기를 정해놓고 추천 대상 사용자와 가장 유사한 k명을 선택\n",
    "\n",
    "<br>\n",
    "\n",
    "**Thresholding** : 크기 대신 유사도의 기준(ex 상관계수 0.8 이상)을 정해 놓고 이 기준을 충족시키는 사용자를 이웃으로 정함  \n"
   ],
   "id": "e5657261a508b8a8"
  },
  {
   "metadata": {
    "ExecuteTime": {
     "end_time": "2024-11-23T16:39:55.528470Z",
     "start_time": "2024-11-23T16:39:31.154874Z"
    }
   },
   "cell_type": "code",
   "source": [
    "# 모델별 RMSE를 계산하는 함수 \n",
    "def score(model,neighbor_size=0):\n",
    "    id_pairs = zip(x_test['user_id'], x_test['movie_id'])\n",
    "    y_pred = np.array([model(user, movie,neighbor_size) for (user, movie) in id_pairs])\n",
    "    y_true = np.array(x_test['rating'])\n",
    "    return RMSE(y_true, y_pred)\n",
    "\n",
    "# Neighbor size를 정해서 예측치를 계산하는 함수\n",
    "def cf_knn(user_id,movie_id,neighbor_size=0):\n",
    "    if movie_id in rating_matrix:\n",
    "        sim_scores = user_similarity[user_id].copy()\n",
    "        movie_ratings = rating_matrix[movie_id].copy()\n",
    "        none_rating_idx = movie_ratings[movie_ratings.isnull()].index\n",
    "        movie_ratings = movie_ratings.drop(none_rating_idx)\n",
    "        sim_scores = sim_scores.drop(none_rating_idx)\n",
    "    \n",
    "        # Neighbor size가 지정되지 않은 경우\n",
    "        if neighbor_size ==0:\n",
    "            mean_rating = np.dot(sim_scores,movie_ratings) / sim_scores.sum()\n",
    "        else :\n",
    "            # 해당 영화를 평가한 다른 사용자 수가 매우 작으면 계산에 문제가 생기기 때문에 평가자 수가 최소 2명 이상인 경우만 계산\n",
    "            if len(sim_scores)>1:\n",
    "                neighbor_size = min(neighbor_size,len(sim_scores))\n",
    "                # 아래의 argsort()를 사용하기 위해서 numpy array로 바꿔준다\n",
    "                sim_scores = np.array(sim_scores)\n",
    "                movie_ratings = np.array(movie_ratings)\n",
    "                # 다른 사용자를 유사도 순서대로 정렬\n",
    "                user_idx = np.argsort(sim_scores) # 배열을 오름차순으로 정렬한 후, 그에 해당하는 원래 인덱스를 반환\n",
    "                sim_scores = sim_scores[user_idx][-neighbor_size:]\n",
    "                movie_ratings = movie_ratings[user_idx][-neighbor_size:]\n",
    "                mean_rating = np.dot(sim_scores,movie_ratings) / sim_scores.sum()\n",
    "            else :\n",
    "                mean_rating = 3.0\n",
    "    else :\n",
    "        mean_rating = 3.0\n",
    "    return mean_rating\n",
    "\n",
    "# 정확도 계산\n",
    "score(cf_knn,neighbor_size=30)"
   ],
   "id": "beaabc84ad7a10b5",
   "outputs": [
    {
     "data": {
      "text/plain": [
       "1.0051199734087397"
      ]
     },
     "execution_count": 6,
     "metadata": {},
     "output_type": "execute_result"
    }
   ],
   "execution_count": 6
  },
  {
   "metadata": {
    "ExecuteTime": {
     "end_time": "2024-11-23T16:40:28.138471Z",
     "start_time": "2024-11-23T16:40:25.807784Z"
    }
   },
   "cell_type": "code",
   "source": [
    "# 주어진 사용자에 대해 추천받기\n",
    "# 전체 데이터로 full matrix와 cosine similarity 구하기\n",
    "rating_matrix = ratings.pivot_table(values='rating',index='user_id',columns='movie_id')\n",
    "from sklearn.metrics.pairwise import cosine_similarity\n",
    "matrix_dummy = rating_matrix.copy().fillna(0)\n",
    "user_similarity = cosine_similarity(matrix_dummy,matrix_dummy)\n",
    "user_similarity = pd.DataFrame(user_similarity,index = rating_matrix.index,columns=rating_matrix.index)\n",
    "\n",
    "def recommender(user,n_items=10,neighbor_size=20):\n",
    "    predictions = []\n",
    "    # 현 사용자가 이미 평가한 인덱스 저장(추천에서 제외 하기 위해)\n",
    "    rated_index = rating_matrix.loc[user][rating_matrix.loc[user]>0].index\n",
    "    items = rating_matrix.loc[user].drop(rated_index)\n",
    "    for item in items.index:\n",
    "        predictions.append(cf_knn(user,item,neighbor_size))\n",
    "    recommendations = pd.Series(data=predictions,index = items.index,dtype=float)\n",
    "    recommendations = recommendations.sort_values(ascending=False)[:n_items]\n",
    "    recommend_items = movies.loc[recommendations.index]['title']\n",
    "    return recommend_items\n",
    "\n",
    "recommender(user=2,n_items=5,neighbor_size=30)"
   ],
   "id": "3f1e1bce9664855f",
   "outputs": [
    {
     "data": {
      "text/plain": [
       "movie_id\n",
       "1500    Prisoner of the Mountains (Kavkazsky Plennik) ...\n",
       "1189                              That Old Feeling (1997)\n",
       "1293                     Ayn Rand: A Sense of Life (1997)\n",
       "1467                                     Cure, The (1995)\n",
       "318                       Everyone Says I Love You (1996)\n",
       "Name: title, dtype: object"
      ]
     },
     "execution_count": 7,
     "metadata": {},
     "output_type": "execute_result"
    }
   ],
   "execution_count": 7
  },
  {
   "metadata": {},
   "cell_type": "markdown",
   "source": [
    "## 3.5 최적의 이웃 크기 결정\n",
    "\n",
    "이웃의 크기 너무 클 때 : 집단별 취향의 차이가 없어지고 best-seller 방식과 크게 다를 바가 없게 된다.  \n",
    "이웃의 크기 너무 작을 때 : 현재 사용자와 취향의 유사도가 매우 높은 소숭의 이웃의 평가만을 사용\n",
    "- 기계학습의 과적합(over-fittign) 문제\n",
    "\n",
    "<br>\n",
    "\n",
    "구체적으로 얼마가 최적의 크기인지는 분야(domain)에 따라 차이가 있음 -> 최적의 이웃 크기를 찾기 위해서는 다양한 이웃 크기를 시도하면서 추천의 정확도를 최고로하는 이웃 크기를 실험을 통해서 찾아야 한다  \n",
    "\n",
    "우선 10~60까지 10단위로 변화시키면서 보고, 그 다음에 더 세밀하게 1단위로 변화시키면서 결과를 보면 된"
   ],
   "id": "c0ef2529ccc86c79"
  },
  {
   "metadata": {
    "ExecuteTime": {
     "end_time": "2024-11-23T16:42:55.763125Z",
     "start_time": "2024-11-23T16:40:30.460454Z"
    }
   },
   "cell_type": "code",
   "source": [
    "# 최적의 neighbor size 구하기\n",
    "# train set으로 full matrix와 cosine similarity 구하기\n",
    "rating_matrix = x_train.pivot_table(values='rating',index='user_id',columns='movie_id')\n",
    "from sklearn.metrics.pairwise import cosine_similarity\n",
    "matrix_dummy = rating_matrix.copy().fillna(0)\n",
    "user_similarity = cosine_similarity(matrix_dummy,matrix_dummy)\n",
    "user_similarity = pd.DataFrame(user_similarity,index=rating_matrix.index,columns=rating_matrix.index)\n",
    "for neighbor_size in [10,20,30,40,50,60]:\n",
    "    print(\"Neighbor size = %d : RMSE = %.4f\"%(neighbor_size,score(cf_knn,neighbor_size)))"
   ],
   "id": "92a45419458afedb",
   "outputs": [
    {
     "name": "stdout",
     "output_type": "stream",
     "text": [
      "Neighbor size = 10 : RMSE = 1.0246\n",
      "Neighbor size = 20 : RMSE = 1.0089\n",
      "Neighbor size = 30 : RMSE = 1.0051\n",
      "Neighbor size = 40 : RMSE = 1.0046\n",
      "Neighbor size = 50 : RMSE = 1.0048\n",
      "Neighbor size = 60 : RMSE = 1.0051\n"
     ]
    }
   ],
   "execution_count": 8
  },
  {
   "metadata": {
    "ExecuteTime": {
     "end_time": "2024-11-21T12:29:08.874923Z",
     "start_time": "2024-11-21T12:25:04.263369Z"
    }
   },
   "cell_type": "code",
   "source": [
    "# 1단위로 최적의 이웃 숫자 찾기\n",
    "for neighbor_size in range(30,40):\n",
    "    print(\"Neighbor size = %d : RMSE = %.4f\"%(neighbor_size,score(cf_knn,neighbor_size)))"
   ],
   "id": "5fe28502f2f2e0bd",
   "outputs": [
    {
     "name": "stdout",
     "output_type": "stream",
     "text": [
      "Neighbor size = 30 : RMSE = 1.0102\n",
      "Neighbor size = 31 : RMSE = 1.0100\n",
      "Neighbor size = 32 : RMSE = 1.0099\n",
      "Neighbor size = 33 : RMSE = 1.0098\n",
      "Neighbor size = 34 : RMSE = 1.0099\n",
      "Neighbor size = 35 : RMSE = 1.0099\n",
      "Neighbor size = 36 : RMSE = 1.0100\n",
      "Neighbor size = 37 : RMSE = 1.0101\n",
      "Neighbor size = 38 : RMSE = 1.0103\n",
      "Neighbor size = 39 : RMSE = 1.0104\n"
     ]
    }
   ],
   "execution_count": 42
  },
  {
   "metadata": {},
   "cell_type": "markdown",
   "source": [
    "## 3.6 사용자의 평가경향을 고려한 CF\n",
    "\n",
    "CF의 정확도를 더 개선시키는 방법 중의 하나는 사용자의 평가경향(user bias)을 고려해서 예측치를 조정하는 것이다.  \n",
    "사용자에 따라서 쳥가를 저체적으로 높게 하는 사람이 있는 반면에 전체적으로 낮게 하는 사람도 있는 등 사람에 따라 평가경향이 다르다.  \n",
    "\n",
    "<br>\n",
    "\n",
    "1. 각 사용자의 평점평균을 구한다.\n",
    "\n",
    "2. 각 아이템의 평점을 각 사용자의 평균에서의 차이(평점-해당 사용자의 전체 평점평균)로 변환\n",
    "    - 편의상 평점과 평균의 차이를 평점편차로 부르기로\n",
    "\n",
    "3. 평점편차를 사용해서 해당 사용자의 해당 아이템의 편차 예측값(평점편차의 예측값)을 구한다\n",
    "    - 구체적으로 해당 사용자의 이웃을 구하고 이들 이웃의 해당 아이템에 대한 평점편차와 유사도를 가중평균한다\n",
    "\n",
    "4. 이렇게 구한 편차 예측값은 평균에서의 차이를 의미하기 때문에 실제 예측값으로 변환하기 위해서 현 사용자의 평균에 이 편차 예측값을 더해준다.\n",
    "\n",
    "5. 예측값을 구할 수 없는 경우에 지금까지는 3.0을 할당했는데, 이번에는 해당 사용자의 평점평균으로 대체한다."
   ],
   "id": "2848abb7195da39f"
  },
  {
   "metadata": {
    "ExecuteTime": {
     "end_time": "2024-11-23T16:43:44.800791Z",
     "start_time": "2024-11-23T16:43:20.355192Z"
    }
   },
   "cell_type": "code",
   "source": [
    "# 모든 user의 rating 평균과 영화의 평점편차 계산\n",
    "rating_mean = rating_matrix.mean(axis=1) # 유저별로 평균계산\n",
    "rating_bias = (rating_matrix.T - rating_mean).T # 열이 user_id로 하기 위해 전치\n",
    "\n",
    "def CF_knn_bias(user_id,movie_id,neighbor_size=0):\n",
    "    if movie_id in rating_bias:\n",
    "        sim_scores = user_similarity[user_id].copy()\n",
    "        movie_ratings = rating_bias[movie_id].copy()\n",
    "        none_rating_idx = movie_ratings[movie_ratings.isnull()].index\n",
    "        movie_ratings = movie_ratings.drop(none_rating_idx)\n",
    "        sim_scores = sim_scores.drop(none_rating_idx)\n",
    "        \n",
    "        # neighbor size가 지정되지 않은 경우\n",
    "        if neighbor_size ==0:\n",
    "            prediction = np.dot(sim_scores,movie_ratings) / sim_scores.sum()\n",
    "            prediction = prediction + rating_mean[user_id]\n",
    "        else:\n",
    "            if len(sim_scores)>1:\n",
    "                neighbor_size = min(neighbor_size,len(sim_scores))\n",
    "                sim_scores = np.array(sim_scores)\n",
    "                movie_ratings = np.array(movie_ratings)\n",
    "                user_idx = np.argsort(sim_scores)\n",
    "                sim_scores = sim_scores[user_idx][-neighbor_size:]\n",
    "                movie_ratings = movie_ratings[user_idx][-neighbor_size:]\n",
    "                prediction = np.dot(sim_scores,movie_ratings) / sim_scores.sum()\n",
    "                prediction = prediction + rating_mean[user_id]\n",
    "            else:\n",
    "                prediction = rating_mean[user_id]\n",
    "    else:\n",
    "        prediction = rating_mean[user_id]\n",
    "    \n",
    "    return prediction\n",
    "\n",
    "score(CF_knn_bias,30)"
   ],
   "id": "f57b43cd4b6e4122",
   "outputs": [
    {
     "data": {
      "text/plain": [
       "0.9441560810559305"
      ]
     },
     "execution_count": 10,
     "metadata": {},
     "output_type": "execute_result"
    }
   ],
   "execution_count": 10
  },
  {
   "metadata": {},
   "cell_type": "markdown",
   "source": [
    "## 3.7 그 외의 CF 정확도 개선 방법\n",
    "\n",
    "**신뢰도 가중**(significance weighting) : 유사도를 신뢰도에 따라서 가중을 하자는 \n",
    "\n"
   ],
   "id": "3edcd4d7400e4ec2"
  },
  {
   "metadata": {
    "ExecuteTime": {
     "end_time": "2024-11-23T17:15:51.880543Z",
     "start_time": "2024-11-23T17:15:21.896107Z"
    }
   },
   "cell_type": "code",
   "source": [
    "# 사용자별 공통 평가 수 계산\n",
    "# 전체 full matrix 중에 평점이 있는 경우만 1로 표시\n",
    "rating_binary1 = np.array((rating_matrix>0).astype(float)) \n",
    "rating_binary2 = rating_binary1.T\n",
    "# 행렬의 각 원소는 각각의 사용자가 공통으로 평가한 영화의 수, 대각선은 각 사용자가 평가한 영화의 수\n",
    "counts = np.dot(rating_binary1,rating_binary2)\n",
    "counts = pd.DataFrame(counts,index=rating_matrix.index,columns=rating_matrix.index).fillna(0)\n",
    "\n",
    "def CF_knn_bias_sig(user_id,movie_id,neighbor_size=0):\n",
    "    if movie_id in rating_matrix:\n",
    "        sim_scores = user_similarity[user_id].copy()\n",
    "        movie_ratings = rating_bias[movie_id].copy()\n",
    "        # 현재 영화에 대해서 평가하지 않은 사용자를 True로 표시\n",
    "        no_rating = movie_ratings.isnull()\n",
    "        common_counts = counts[user_id]\n",
    "        low_significance = common_counts < SIG_LEVEL\n",
    "        # 평가를 안했거나 low_significance 사용자들을 표시(나중에 제회하기 위함)\n",
    "        none_rating_idx = movie_ratings[no_rating | low_significance].index\n",
    "        movie_ratings = movie_ratings.drop(none_rating_idx)\n",
    "        sim_scores = sim_scores.drop(none_rating_idx)\n",
    "        \n",
    "        # neighbor size가 지정되지 않은 경우\n",
    "        if neighbor_size==0:\n",
    "            prediction = np.dot(sim_scores,movie_ratings) / sim_scores.sum()\n",
    "            prediction = prediction + rating_mean[user_id]\n",
    "        \n",
    "        # neighbor size가 지정된 경우\n",
    "        else :\n",
    "            # 해당 영화를 평가한 사용자가 최소 MIN_RATINGS 이상인 경우에만 계산\n",
    "            if len(sim_scores) > MIN_RATINGS:\n",
    "                neighbor_size = min(neighbor_size,len(sim_scores))\n",
    "                sim_scores = np.array(sim_scores)\n",
    "                movie_ratings = np.array(movie_ratings)\n",
    "                user_idx = np.argsort(sim_scores)\n",
    "                sim_scores = sim_scores[user_idx][-neighbor_size:]\n",
    "                movie_ratings = movie_ratings[user_idx][-neighbor_size:]\n",
    "                prediction = np.dot(sim_scores,movie_ratings) / sim_scores.sum()\n",
    "                prediction = prediction + rating_mean[user_id]\n",
    "            else :\n",
    "                prediction = rating_mean[user_id]\n",
    "    else :\n",
    "        prediction = rating_mean[user_id]\n",
    "    return prediction\n",
    "\n",
    "SIG_LEVEL = 3\n",
    "MIN_RATINGS = 2\n",
    "score(CF_knn_bias_sig,30)"
   ],
   "id": "2d6e7ebf047b0e3c",
   "outputs": [
    {
     "data": {
      "text/plain": [
       "0.9441624136635406"
      ]
     },
     "execution_count": 17,
     "metadata": {},
     "output_type": "execute_result"
    }
   ],
   "execution_count": 17
  },
  {
   "metadata": {},
   "cell_type": "markdown",
   "source": [
    "### 연습문제\n",
    "\n",
    "3-3 예측값이 1이하이면 1로, 5이상이면 5로 수정하는 코드 작성"
   ],
   "id": "8561f2a9ea51430a"
  },
  {
   "metadata": {
    "ExecuteTime": {
     "end_time": "2024-11-23T17:26:58.187930Z",
     "start_time": "2024-11-23T17:26:28.261990Z"
    }
   },
   "cell_type": "code",
   "source": [
    "def CF_knn_bias_sig_2(user_id,movie_id,neighbor_size=0):\n",
    "    if movie_id in rating_matrix:\n",
    "        sim_scores = user_similarity[user_id].copy()\n",
    "        movie_ratings = rating_bias[movie_id].copy()\n",
    "        # 현재 영화에 대해서 평가하지 않은 사용자를 True로 표시\n",
    "        no_rating = movie_ratings.isnull()\n",
    "        common_counts = counts[user_id]\n",
    "        low_significance = common_counts < SIG_LEVEL\n",
    "        # 평가를 안했거나 low_significance 사용자들을 표시(나중에 제회하기 위함)\n",
    "        none_rating_idx = movie_ratings[no_rating | low_significance].index\n",
    "        movie_ratings = movie_ratings.drop(none_rating_idx)\n",
    "        sim_scores = sim_scores.drop(none_rating_idx)\n",
    "        \n",
    "        # neighbor size가 지정되지 않은 경우\n",
    "        if neighbor_size==0:\n",
    "            prediction = np.dot(sim_scores,movie_ratings) / sim_scores.sum()\n",
    "            prediction = prediction + rating_mean[user_id]\n",
    "        \n",
    "        # neighbor size가 지정된 경우\n",
    "        else :\n",
    "            # 해당 영화를 평가한 사용자가 최소 MIN_RATINGS 이상인 경우에만 계산\n",
    "            if len(sim_scores) > MIN_RATINGS:\n",
    "                neighbor_size = min(neighbor_size,len(sim_scores))\n",
    "                sim_scores = np.array(sim_scores)\n",
    "                movie_ratings = np.array(movie_ratings)\n",
    "                user_idx = np.argsort(sim_scores)\n",
    "                sim_scores = sim_scores[user_idx][-neighbor_size:]\n",
    "                movie_ratings = movie_ratings[user_idx][-neighbor_size:]\n",
    "                prediction = np.dot(sim_scores,movie_ratings) / sim_scores.sum()\n",
    "                prediction = prediction + rating_mean[user_id]\n",
    "            else :\n",
    "                prediction = rating_mean[user_id]\n",
    "    else :\n",
    "        prediction = rating_mean[user_id]\n",
    "    if prediction>5 : prediction = 5\n",
    "    if prediction<1 : prediction = 1\n",
    "    return prediction\n",
    "\n",
    "score(CF_knn_bias_sig_2,30)"
   ],
   "id": "f158c35381587ad5",
   "outputs": [
    {
     "data": {
      "text/plain": [
       "0.9428174323056608"
      ]
     },
     "execution_count": 18,
     "metadata": {},
     "output_type": "execute_result"
    }
   ],
   "execution_count": 18
  },
  {
   "metadata": {},
   "cell_type": "markdown",
   "source": [
    "## 3.8 사용자 기반 CF와 아이템 기반 CF\n",
    "\n",
    "<br>\n",
    "\n",
    "1. **사용자 기반 CF** (User-Based CF : UBCF) : 취향이 비슷한 이웃 사용자를 알아내고, 이 그룹에 속한 사용자들이 공통적으로 좋게 평가한 아이템을 추천    \n",
    "    - 데이터가 풍부한 경우 정확한 추천 가능\n",
    "    - 터무니없는 추천을 하는 경우도 상당히 있다\n",
    "    - 데이터가 조금 바뀔 때마다 업데이트를 해야한다\n",
    "    - ex) 데이터 크기가 적고 각 사용자에 대한 충분한 정보(구매,평가)가 있는 경우\n",
    "\n",
    "<br>\n",
    "\n",
    "2. **아이템 기반 CF** (Item-Based CF : IBCF) : 사용자들의 평가 패턴을 바탕으로 아이템 간의 유사도를 계산해서 사용자의 특정 아이템에 대한 예측 평점을 계산\n",
    "    - 정확도는 떨어지지만 사용자별로 따로따로 계산을 하지 않기 때문에 계산이 빠르다\n",
    "    - 상대적으로 터무니없는 추천을 하는 위험이 적다\n",
    "    - 데이터가 조금 바뀌어도 추천 결과에는 영향이 크지 않아 업데이트를 자주 하지 않아도 된다\n",
    "    - ex) 데이터가 크거나 각 사용자에 대한 충분한 정보가 없는 경"
   ],
   "id": "1906f6d5cd64e1cc"
  },
  {
   "metadata": {
    "ExecuteTime": {
     "end_time": "2024-11-23T18:06:13.945761Z",
     "start_time": "2024-11-23T18:05:52.573880Z"
    }
   },
   "cell_type": "code",
   "source": [
    "#IBCF는 이웃 수 필요 X\n",
    "def score(model):\n",
    "    id_pairs = zip(x_test['user_id'], x_test['movie_id'])\n",
    "    y_pred = np.array([model(user, movie) for (user, movie) in id_pairs])\n",
    "    y_true = np.array(x_test['rating'])\n",
    "    return RMSE(y_true, y_pred)\n",
    "\n",
    "# train 데이터로 Full matrix 구하기  \n",
    "rating_matrix = x_train.pivot(index='user_id', columns='movie_id', values='rating')\n",
    "\n",
    "# train set의 모든 가능한 아이템 pair의 cosine similarities 계산\n",
    "from sklearn.metrics.pairwise import cosine_similarity\n",
    "# 아이템 간의 유사도를 계산해야하기 때문에 원래 사용했던 rating_matrix를 전치시켜야한다\n",
    "rating_matrix_t = np.transpose(rating_matrix) # np.transpose : 전치\n",
    "matrix_dummy = rating_matrix_t.copy().fillna(0)\n",
    "item_similarity = cosine_similarity(matrix_dummy,matrix_dummy)\n",
    "item_similarity = pd.DataFrame(item_similarity,index=rating_matrix_t.index,columns=rating_matrix_t.index)\n",
    "\n",
    "# 주어진 영화(movie_id)의 가중평균 rating을 계산하는 함수\n",
    "# 가중치는 주어진 아이템과 다른 아이템 간의 유사도(item_similarity)\n",
    "def CF_IBCF(user_id,movie_id):\n",
    "    if movie_id in item_similarity:\n",
    "        sim_scores = item_similarity[movie_id]\n",
    "        user_rating = rating_matrix_t[user_id]\n",
    "        none_rating_idx = user_rating[user_rating.isnull()].index\n",
    "        user_rating = user_rating.dropna()\n",
    "        sim_scores = sim_scores.drop(none_rating_idx)\n",
    "        mean_rating = np.dot(sim_scores,user_rating) / sim_scores.sum()\n",
    "    else :\n",
    "        mean_rating = 3.0\n",
    "    return mean_rating\n",
    "\n",
    "score(CF_IBCF)        "
   ],
   "id": "ad9fe33b3819e678",
   "outputs": [
    {
     "data": {
      "text/plain": [
       "1.0130595251637493"
      ]
     },
     "execution_count": 32,
     "metadata": {},
     "output_type": "execute_result"
    }
   ],
   "execution_count": 32
  }
 ],
 "metadata": {
  "kernelspec": {
   "display_name": "Python 3",
   "language": "python",
   "name": "python3"
  },
  "language_info": {
   "codemirror_mode": {
    "name": "ipython",
    "version": 2
   },
   "file_extension": ".py",
   "mimetype": "text/x-python",
   "name": "python",
   "nbconvert_exporter": "python",
   "pygments_lexer": "ipython2",
   "version": "2.7.6"
  }
 },
 "nbformat": 4,
 "nbformat_minor": 5
}
